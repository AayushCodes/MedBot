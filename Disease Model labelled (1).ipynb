{
 "cells": [
  {
   "cell_type": "markdown",
   "metadata": {},
   "source": [
    "# Importing the required libraries"
   ]
  },
  {
   "cell_type": "code",
   "execution_count": 1,
   "metadata": {},
   "outputs": [],
   "source": [
    "import pandas as pd\n",
    "import numpy as np\n",
    "import matplotlib.pyplot as plt\n",
    "from sklearn import tree\n",
    "from sklearn.neighbors import KNeighborsClassifier\n",
    "from sklearn import neighbors, datasets, preprocessing\n",
    "from sklearn.model_selection import train_test_split\n",
    "from sklearn.metrics import accuracy_score\n",
    "from sklearn.metrics import classification_report\n",
    "from sklearn.metrics import confusion_matrix\n",
    "from sklearn.model_selection import train_test_split\n",
    "import seaborn as sns"
   ]
  },
  {
   "cell_type": "markdown",
   "metadata": {},
   "source": [
    "# Loading the file Disease.xlsx"
   ]
  },
  {
   "cell_type": "code",
   "execution_count": 2,
   "metadata": {},
   "outputs": [],
   "source": [
    "df = pd.read_excel('C:\\\\Users\\\\intel\\\\Downloads\\\\Disease.xlsx')\n",
    "df2 = pd.read_excel('C:\\\\Users\\\\intel\\\\Downloads\\\\Test Data Disease.xlsx')"
   ]
  },
  {
   "cell_type": "markdown",
   "metadata": {},
   "source": [
    "# Defining the headings of the dataframes as x and y variables"
   ]
  },
  {
   "cell_type": "code",
   "execution_count": 3,
   "metadata": {},
   "outputs": [],
   "source": [
    "x = df[['running nose','nasal obstruction','sneezing','throat pain','tiredness','cough','fever','malaise','inflamed tonsils','hoarse voice','breathlessness','chest pain','restlessness','anxiety','wheezing','chills','body ache','appetit loss','lethargy','weight loss','headache','memory loss','sleeplessness','vomiting','nausea','constipation','rashes','itching','joint pain','swelling','weakness','hyper sweating','swollen gums','weight gain','ear pain','body stiffness','temperature']]\n",
    "y = df['Doctor Needed']\n",
    "x2 = df2[['running nose','nasal obstruction','sneezing','throat pain','tiredness','cough','fever','malaise','inflamed tonsils','hoarse voice','breathlessness','chest pain','restlessness','anxiety','wheezing','chills','body ache','appetit loss','lethargy','weight loss','headache','memory loss','sleeplessness','vomiting','nausea','constipation','rashes','itching','joint pain','swelling','weakness','hyper sweating','swollen gums','weight gain','ear pain','body stiffness','temperature']]\n",
    "y2 = df2['Doctor Needed']"
   ]
  },
  {
   "cell_type": "markdown",
   "metadata": {},
   "source": [
    "# Splitting the data into test and train data "
   ]
  },
  {
   "cell_type": "code",
   "execution_count": 4,
   "metadata": {},
   "outputs": [],
   "source": [
    "x_train, x_test, y_train, y_test = train_test_split(x,y,test_size=0.25,random_state=10)"
   ]
  },
  {
   "cell_type": "markdown",
   "metadata": {},
   "source": [
    "# Checking accuracy of the KNN model : Method 1 "
   ]
  },
  {
   "cell_type": "code",
   "execution_count": 5,
   "metadata": {},
   "outputs": [
    {
     "name": "stdout",
     "output_type": "stream",
     "text": [
      "[0.9230769230769231, 0.9230769230769231, 0.8846153846153846, 0.8461538461538461, 0.8461538461538461, 0.8461538461538461, 0.8461538461538461, 0.8461538461538461, 0.8846153846153846, 0.8461538461538461, 0.8461538461538461, 0.8076923076923077, 0.8076923076923077, 0.8461538461538461, 0.8461538461538461]\n"
     ]
    }
   ],
   "source": [
    "accuracy = []\n",
    "num_neigh = []\n",
    "for ii in range(1,16):\n",
    "    KNN = KNeighborsClassifier(n_neighbors=ii)\n",
    "    KNN.fit(x_train,y_train)\n",
    "    accuracy.append(KNN.score(x_test,y_test))\n",
    "    num_neigh.append(ii)\n",
    "print(accuracy)"
   ]
  },
  {
   "cell_type": "markdown",
   "metadata": {},
   "source": [
    "# Checking accuracy of the KNN model : Method 2"
   ]
  },
  {
   "cell_type": "code",
   "execution_count": 6,
   "metadata": {},
   "outputs": [
    {
     "name": "stdout",
     "output_type": "stream",
     "text": [
      "Accuracy is 92.3076923076923 % for K-Value: 1\n",
      "Accuracy is 92.3076923076923 % for K-Value: 2\n",
      "Accuracy is 88.46153846153845 % for K-Value: 3\n",
      "Accuracy is 84.61538461538461 % for K-Value: 4\n",
      "Accuracy is 84.61538461538461 % for K-Value: 5\n",
      "Accuracy is 84.61538461538461 % for K-Value: 6\n",
      "Accuracy is 84.61538461538461 % for K-Value: 7\n",
      "Accuracy is 84.61538461538461 % for K-Value: 8\n",
      "Accuracy is 88.46153846153845 % for K-Value: 9\n",
      "Accuracy is 84.61538461538461 % for K-Value: 10\n",
      "Accuracy is 84.61538461538461 % for K-Value: 11\n",
      "Accuracy is 80.76923076923077 % for K-Value: 12\n",
      "Accuracy is 80.76923076923077 % for K-Value: 13\n",
      "Accuracy is 84.61538461538461 % for K-Value: 14\n",
      "Accuracy is 84.61538461538461 % for K-Value: 15\n",
      "Accuracy is 80.76923076923077 % for K-Value: 16\n",
      "Accuracy is 84.61538461538461 % for K-Value: 17\n",
      "Accuracy is 84.61538461538461 % for K-Value: 18\n",
      "Accuracy is 84.61538461538461 % for K-Value: 19\n",
      "Accuracy is 76.92307692307693 % for K-Value: 20\n"
     ]
    }
   ],
   "source": [
    "for K in range(20):\n",
    " K_value = K+1\n",
    " neigh = KNeighborsClassifier(n_neighbors = K_value, weights='uniform', algorithm='auto')\n",
    " neigh.fit(x_train,y_train) \n",
    " y_pred = neigh.predict(x_test)\n",
    " print(\"Accuracy is\", accuracy_score(y_test,y_pred)*100,\"% for K-Value:\",K_value)"
   ]
  },
  {
   "cell_type": "markdown",
   "metadata": {},
   "source": [
    "# KNN : Plotting the accuracy graph - Model 1.1"
   ]
  },
  {
   "cell_type": "code",
   "execution_count": 7,
   "metadata": {},
   "outputs": [
    {
     "data": {
      "image/png": "[encoded data removed]",
      "text/plain": [
       "<Figure size 432x288 with 1 Axes>"
      ]
     },
     "metadata": {
      "needs_background": "light"
     },
     "output_type": "display_data"
    }
   ],
   "source": [
    "plt.scatter(num_neigh,accuracy)\n",
    "plt.xlabel('Number of neighbours')\n",
    "plt.ylabel('Accuracy')\n",
    "plt.show();"
   ]
  },
  {
   "cell_type": "markdown",
   "metadata": {},
   "source": [
    "# Model 1.1 : Using the KNN model to predict the doctor needed "
   ]
  },
  {
   "cell_type": "code",
   "execution_count": 10,
   "metadata": {},
   "outputs": [
    {
     "name": "stdout",
     "output_type": "stream",
     "text": [
      "['Pulmonologist']\n"
     ]
    }
   ],
   "source": [
    "KNN = KNeighborsClassifier(2)\n",
    "KNN = KNN.fit(x,y)\n",
    "test = pd.DataFrame()\n",
    "test['running nose'] = [0]\n",
    "test['nasal obstruction'] = [0]\n",
    "test['sneezing'] = [0]\n",
    "test['throat pain'] = [0]\n",
    "test['tiredness'] = [0]\n",
    "test['cough'] = [1]\n",
    "test['fever'] = [0]\n",
    "test['malaise'] = [1]\n",
    "test['inflamed tonsils'] = [0]\n",
    "test['hoarse voice'] = [0]\n",
    "test['breathlessness'] = [1]\n",
    "test['chest pain'] = [1]\n",
    "test['restlessness'] = [0]\n",
    "test['anxiety'] = [0]\n",
    "test['wheezing'] = [0]\n",
    "test['chills'] = [1]\n",
    "test['body ache'] = [1]\n",
    "test['appetit loss'] = [1]\n",
    "test['lethargy'] = [0]\n",
    "test['weight loss'] = [0]\n",
    "test['headache'] = [0]\n",
    "test['memory loss'] = [0]\n",
    "test['sleeplessness'] = [0]\n",
    "test['vomiting'] = [0]\n",
    "test['nausea'] = [0]\n",
    "test['constipation'] = [0]\n",
    "test['rashes'] = [0]\n",
    "test['itching'] = [0]\n",
    "test['joint pain'] = [0]\n",
    "test['swelling'] = [0]\n",
    "test['weakness'] = [1]\n",
    "test['hyper sweating'] = [0]\n",
    "test['swollen gums'] = [0]\n",
    "test['weight gain'] = [0]\n",
    "test['ear pain'] = [0]\n",
    "test['body stiffness'] = [0]\n",
    "test['temperature'] = [6]\n",
    "predict_disease = KNN.predict(test)\n",
    "print(predict_disease)"
   ]
  },
  {
   "cell_type": "markdown",
   "metadata": {},
   "source": [
    "# KNN : Making the confusion matrix - Model 1.1"
   ]
  },
  {
   "cell_type": "code",
   "execution_count": 11,
   "metadata": {},
   "outputs": [
    {
     "name": "stdout",
     "output_type": "stream",
     "text": [
      "[[6 0 0 0 0]\n",
      " [0 5 0 0 1]\n",
      " [0 2 4 0 0]\n",
      " [0 0 2 1 0]\n",
      " [0 0 0 1 4]]\n"
     ]
    }
   ],
   "source": [
    "print(confusion_matrix(y_test, y_pred)) "
   ]
  },
  {
   "cell_type": "markdown",
   "metadata": {},
   "source": [
    "# KNN : Making the heatmap from the confusion matrix - Model 1.1"
   ]
  },
  {
   "cell_type": "code",
   "execution_count": 12,
   "metadata": {},
   "outputs": [
    {
     "data": {
      "text/plain": [
       "<matplotlib.axes._subplots.AxesSubplot at 0x276480200f0>"
      ]
     },
     "execution_count": 12,
     "metadata": {},
     "output_type": "execute_result"
    },
    {
     "data": {
      "image/png": "[encoded data removed]",
      "text/plain": [
       "<Figure size 432x288 with 2 Axes>"
      ]
     },
     "metadata": {
      "needs_background": "light"
     },
     "output_type": "display_data"
    }
   ],
   "source": [
    "df = pd.DataFrame()\n",
    "df['Actual'] = y_test\n",
    "df['Predicted'] = y_pred\n",
    "freq = pd.crosstab(df.Actual,df.Predicted)\n",
    "sns.heatmap(freq,annot=True,fmt=\"d\")"
   ]
  },
  {
   "cell_type": "markdown",
   "metadata": {},
   "source": [
    "# Model 1.2 : Testing model through uploaded file"
   ]
  },
  {
   "cell_type": "code",
   "execution_count": 13,
   "metadata": {},
   "outputs": [
    {
     "name": "stdout",
     "output_type": "stream",
     "text": [
      "['Pulmonologist' 'Pulmonologist' 'ENT' 'Physician' 'ENT' 'ENT' 'Dietician'\n",
      " 'Dietician' 'Cardiologist' 'Cardiologist']\n"
     ]
    }
   ],
   "source": [
    "predict_disease = KNN.predict(x2)\n",
    "print(predict_disease)"
   ]
  },
  {
   "cell_type": "markdown",
   "metadata": {},
   "source": [
    "# KNN : Making the confusion matrix - Model 1.2"
   ]
  },
  {
   "cell_type": "code",
   "execution_count": 14,
   "metadata": {},
   "outputs": [
    {
     "name": "stdout",
     "output_type": "stream",
     "text": [
      "[[2 0 0 0 0]\n",
      " [0 2 0 0 0]\n",
      " [0 0 2 0 0]\n",
      " [0 0 1 1 0]\n",
      " [0 0 0 0 2]]\n"
     ]
    }
   ],
   "source": [
    "print(confusion_matrix(y2, predict_disease)) "
   ]
  },
  {
   "cell_type": "markdown",
   "metadata": {},
   "source": [
    "# KNN : Making the heatmap from the confusion matrix - Model 1.2"
   ]
  },
  {
   "cell_type": "code",
   "execution_count": 15,
   "metadata": {},
   "outputs": [
    {
     "data": {
      "text/plain": [
       "<matplotlib.axes._subplots.AxesSubplot at 0x276481eb470>"
      ]
     },
     "execution_count": 15,
     "metadata": {},
     "output_type": "execute_result"
    },
    {
     "data": {
      "image/png": "[encoded data removed]",
      "text/plain": [
       "<Figure size 432x288 with 2 Axes>"
      ]
     },
     "metadata": {
      "needs_background": "light"
     },
     "output_type": "display_data"
    }
   ],
   "source": [
    "df = pd.DataFrame()\n",
    "df['Actual'] = y2\n",
    "df['Predicted'] = predict_disease\n",
    "freq = pd.crosstab(df.Actual,df.Predicted)\n",
    "sns.heatmap(freq,annot=True,fmt=\"d\")"
   ]
  },
  {
   "cell_type": "markdown",
   "metadata": {},
   "source": [
    "# Finding Min_samples_split of the Decision Tree model "
   ]
  },
  {
   "cell_type": "code",
   "execution_count": 16,
   "metadata": {},
   "outputs": [
    {
     "name": "stdout",
     "output_type": "stream",
     "text": [
      "[1.0, 1.0, 1.0, 1.0, 1.0, 1.0, 1.0, 1.0, 0.9615384615384616, 0.9615384615384616, 0.9615384615384616, 0.9615384615384616, 0.9615384615384616, 0.9615384615384616]\n"
     ]
    },
    {
     "data": {
      "image/png": "[encoded data removed]",
      "text/plain": [
       "<Figure size 432x288 with 1 Axes>"
      ]
     },
     "metadata": {
      "needs_background": "light"
     },
     "output_type": "display_data"
    }
   ],
   "source": [
    "accuracy = []\n",
    "min_samples = []\n",
    "for ii in range(2,16):\n",
    "    dt = tree.DecisionTreeClassifier(min_samples_split=ii)\n",
    "    dt.fit(x_train,y_train)\n",
    "    accuracy.append(dt.score(x_test,y_test))\n",
    "    min_samples.append(ii)\n",
    "\n",
    "print(accuracy)\n",
    "\n",
    "plt.scatter(min_samples,accuracy)\n",
    "plt.xlabel('Min_Samples_Split')\n",
    "plt.ylabel('Accuracy')\n",
    "plt.show();"
   ]
  },
  {
   "cell_type": "markdown",
   "metadata": {},
   "source": [
    "# Finding Max_depth of the Decision Tree model"
   ]
  },
  {
   "cell_type": "code",
   "execution_count": 17,
   "metadata": {},
   "outputs": [
    {
     "name": "stdout",
     "output_type": "stream",
     "text": [
      "[0.5, 0.7307692307692307, 0.9615384615384616, 0.9615384615384616, 1.0, 1.0, 1.0, 1.0, 1.0, 1.0, 1.0, 1.0, 1.0, 1.0]\n"
     ]
    },
    {
     "data": {
      "image/png": "[encoded data removed]",
      "text/plain": [
       "<Figure size 432x288 with 1 Axes>"
      ]
     },
     "metadata": {
      "needs_background": "light"
     },
     "output_type": "display_data"
    }
   ],
   "source": [
    "accuracy = []\n",
    "max_depth = []\n",
    "for ii in range(2,16):\n",
    "    dt = tree.DecisionTreeClassifier(max_depth=ii)\n",
    "    dt.fit(x_train,y_train)\n",
    "    accuracy.append(dt.score(x_test,y_test))\n",
    "    max_depth.append(ii)\n",
    "print(accuracy)\n",
    "plt.scatter(max_depth,accuracy)\n",
    "plt.xlabel('max_depth')\n",
    "plt.ylabel('Accuracy')\n",
    "\n",
    "plt.show();"
   ]
  },
  {
   "cell_type": "markdown",
   "metadata": {},
   "source": [
    "# Model 2.1 : Using the Decision Tree model to predict the doctor needed"
   ]
  },
  {
   "cell_type": "code",
   "execution_count": 18,
   "metadata": {},
   "outputs": [
    {
     "name": "stdout",
     "output_type": "stream",
     "text": [
      "['Dietician' 'Dietician' 'Cardiologist' 'Physician' 'Physician'\n",
      " 'Pulmonologist' 'Pulmonologist' 'Dietician' 'Cardiologist' 'ENT' 'ENT'\n",
      " 'Pulmonologist' 'Pulmonologist' 'ENT' 'Dietician' 'ENT' 'Physician'\n",
      " 'Cardiologist' 'Dietician' 'Cardiologist' 'Cardiologist' 'Cardiologist'\n",
      " 'Dietician' 'ENT' 'ENT' 'ENT']\n"
     ]
    }
   ],
   "source": [
    "dt = tree.DecisionTreeClassifier(max_depth = 5, min_samples_split = 10)\n",
    "dt.fit(x_train,y_train)\n",
    "predict_disease = dt.predict(x_test)\n",
    "print(predict_disease)"
   ]
  },
  {
   "cell_type": "markdown",
   "metadata": {},
   "source": [
    "# DT : Making the Confusion Matrix - Model 2.1"
   ]
  },
  {
   "cell_type": "code",
   "execution_count": 19,
   "metadata": {},
   "outputs": [
    {
     "name": "stdout",
     "output_type": "stream",
     "text": [
      "[[6 0 0 0 0]\n",
      " [0 6 0 0 0]\n",
      " [0 0 6 0 0]\n",
      " [0 0 0 3 0]\n",
      " [0 0 1 0 4]]\n"
     ]
    }
   ],
   "source": [
    "print(confusion_matrix(y_test, predict_disease)) "
   ]
  },
  {
   "cell_type": "markdown",
   "metadata": {},
   "source": [
    "# DT : Making the heatmap from the confusion matrix - Model 2.1"
   ]
  },
  {
   "cell_type": "code",
   "execution_count": 20,
   "metadata": {},
   "outputs": [
    {
     "data": {
      "text/plain": [
       "<matplotlib.axes._subplots.AxesSubplot at 0x276487544a8>"
      ]
     },
     "execution_count": 20,
     "metadata": {},
     "output_type": "execute_result"
    },
    {
     "data": {
      "image/png": "[encoded data removed]",
      "text/plain": [
       "<Figure size 432x288 with 2 Axes>"
      ]
     },
     "metadata": {
      "needs_background": "light"
     },
     "output_type": "display_data"
    }
   ],
   "source": [
    "df = pd.DataFrame()\n",
    "df['Actual'] = y_test\n",
    "df['Predicted'] = predict_disease\n",
    "freq = pd.crosstab(df.Actual,df.Predicted)\n",
    "sns.heatmap(freq,annot=True,fmt=\"d\")"
   ]
  },
  {
   "cell_type": "markdown",
   "metadata": {},
   "source": [
    "# Model 2.2 : Testing model through uploaded file"
   ]
  },
  {
   "cell_type": "code",
   "execution_count": 21,
   "metadata": {},
   "outputs": [
    {
     "name": "stdout",
     "output_type": "stream",
     "text": [
      "['Pulmonologist' 'ENT' 'Physician' 'Physician' 'ENT' 'ENT' 'Dietician'\n",
      " 'Dietician' 'Cardiologist' 'Cardiologist']\n"
     ]
    }
   ],
   "source": [
    "predict_disease = dt.predict(x2)\n",
    "print(predict_disease)"
   ]
  },
  {
   "cell_type": "markdown",
   "metadata": {},
   "source": [
    "# DT : Making the Confusion Matrix - Model 2.2"
   ]
  },
  {
   "cell_type": "code",
   "execution_count": 22,
   "metadata": {},
   "outputs": [
    {
     "name": "stdout",
     "output_type": "stream",
     "text": [
      "[[2 0 0 0 0]\n",
      " [0 2 0 0 0]\n",
      " [0 0 2 0 0]\n",
      " [0 0 0 2 0]\n",
      " [0 0 1 0 1]]\n"
     ]
    }
   ],
   "source": [
    "print(confusion_matrix(y2, predict_disease)) "
   ]
  },
  {
   "cell_type": "markdown",
   "metadata": {},
   "source": [
    "# DT : Making the heatmap from the confusion matrix - Model 2.2"
   ]
  },
  {
   "cell_type": "code",
   "execution_count": 23,
   "metadata": {},
   "outputs": [
    {
     "data": {
      "text/plain": [
       "<matplotlib.axes._subplots.AxesSubplot at 0x2764885e320>"
      ]
     },
     "execution_count": 23,
     "metadata": {},
     "output_type": "execute_result"
    },
    {
     "data": {
      "image/png": "[encoded data removed]",
      "text/plain": [
       "<Figure size 432x288 with 2 Axes>"
      ]
     },
     "metadata": {
      "needs_background": "light"
     },
     "output_type": "display_data"
    }
   ],
   "source": [
    "df = pd.DataFrame()\n",
    "df['Actual'] = y2\n",
    "df['Predicted'] = predict_disease\n",
    "freq = pd.crosstab(df.Actual,df.Predicted)\n",
    "sns.heatmap(freq,annot=True,fmt=\"d\")"
   ]
  },
  {
   "cell_type": "code",
   "execution_count": null,
   "metadata": {},
   "outputs": [],
   "source": []
  },
  {
   "cell_type": "code",
   "execution_count": null,
   "metadata": {},
   "outputs": [],
   "source": []
  }
 ],
 "metadata": {
  "kernelspec": {
   "display_name": "Python 3",
   "language": "python",
   "name": "python3"
  },
  "language_info": {
   "codemirror_mode": {
    "name": "ipython",
    "version": 3
   },
   "file_extension": ".py",
   "mimetype": "text/x-python",
   "name": "python",
   "nbconvert_exporter": "python",
   "pygments_lexer": "ipython3",
   "version": "3.7.1"
  }
 },
 "nbformat": 4,
 "nbformat_minor": 2
}
